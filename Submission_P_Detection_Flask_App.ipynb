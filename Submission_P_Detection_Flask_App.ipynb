{
 "cells": [
  {
   "cell_type": "code",
   "execution_count": 1,
   "metadata": {
    "ExecuteTime": {
     "end_time": "2022-05-29T12:03:53.605301Z",
     "start_time": "2022-05-29T12:03:53.589218Z"
    },
    "executionInfo": {
     "elapsed": 13,
     "status": "ok",
     "timestamp": 1653721772619,
     "user": {
      "displayName": "dinesh solunke",
      "userId": "13503968115604440804"
     },
     "user_tz": -330
    },
    "id": "X1TjR-EhLtNK"
   },
   "outputs": [],
   "source": [
    "# !pip install pydicom\n",
    "# !pip install albumentations==0.4.6\n",
    "# !pip install flask-ngrok\n",
    "# !pip install flask-bootstrap"
   ]
  },
  {
   "cell_type": "code",
   "execution_count": 2,
   "metadata": {
    "ExecuteTime": {
     "end_time": "2022-05-29T12:03:53.621382Z",
     "start_time": "2022-05-29T12:03:53.610384Z"
    },
    "colab": {
     "base_uri": "https://localhost:8080/"
    },
    "executionInfo": {
     "elapsed": 6116,
     "status": "ok",
     "timestamp": 1653722369541,
     "user": {
      "displayName": "dinesh solunke",
      "userId": "13503968115604440804"
     },
     "user_tz": -330
    },
    "id": "pyuqsm-YM6Za",
    "outputId": "c9869570-e01f-4501-9d90-d41025c14a34"
   },
   "outputs": [],
   "source": [
    "# from google.colab import drive\n",
    "# mount = '/content/drive'\n",
    "# drive.mount(mount,force_remount=True)"
   ]
  },
  {
   "cell_type": "code",
   "execution_count": 3,
   "metadata": {
    "ExecuteTime": {
     "end_time": "2022-05-29T12:03:53.637387Z",
     "start_time": "2022-05-29T12:03:53.627385Z"
    },
    "colab": {
     "base_uri": "https://localhost:8080/",
     "height": 34
    },
    "executionInfo": {
     "elapsed": 22056,
     "status": "ok",
     "timestamp": 1653722353007,
     "user": {
      "displayName": "dinesh solunke",
      "userId": "13503968115604440804"
     },
     "user_tz": -330
    },
    "id": "lBuous_0iBk6",
    "outputId": "13d14b58-5753-4575-fbd7-033302ccfbeb"
   },
   "outputs": [],
   "source": [
    "# from google.colab.output import eval_js\n",
    "# print(eval_js(\"google.colab.kernel.proxyPort(5000)\"))"
   ]
  },
  {
   "cell_type": "code",
   "execution_count": 1,
   "metadata": {
    "ExecuteTime": {
     "end_time": "2022-06-01T06:11:11.828900Z",
     "start_time": "2022-06-01T06:11:07.827064Z"
    },
    "executionInfo": {
     "elapsed": 606,
     "status": "ok",
     "timestamp": 1653722372131,
     "user": {
      "displayName": "dinesh solunke",
      "userId": "13503968115604440804"
     },
     "user_tz": -330
    },
    "id": "lH6dJgQQMD_T"
   },
   "outputs": [],
   "source": [
    "import os\n",
    "import torch\n",
    "import numpy as np\n",
    "import torch.nn as nn\n",
    "\n",
    "import torch\n",
    "import torchvision\n",
    "import torchvision.transforms as transforms\n",
    "\n",
    "from flask import Flask\n",
    "from flask_ngrok import run_with_ngrok\n",
    "from PIL import Image, ImageDraw\n",
    "from flask import request\n",
    "from flask import render_template\n",
    "from torch.nn import functional as F\n",
    "from torchvision.models.detection.faster_rcnn import FastRCNNPredictor\n",
    "from torchvision.models.detection import  FasterRCNN\n",
    "from torchvision.models.detection.rpn import AnchorGenerator"
   ]
  },
  {
   "cell_type": "code",
   "execution_count": 2,
   "metadata": {
    "ExecuteTime": {
     "end_time": "2022-06-01T06:11:12.595412Z",
     "start_time": "2022-06-01T06:11:12.582399Z"
    }
   },
   "outputs": [],
   "source": [
    "import os\n",
    "os.chdir(r'C:\\Users\\solunkedi\\OneDrive - VMware, Inc\\Dinesh Solunke\\Greate Learning Project\\Capstone Project\\repo')"
   ]
  },
  {
   "cell_type": "code",
   "execution_count": 3,
   "metadata": {
    "ExecuteTime": {
     "end_time": "2022-06-01T06:11:14.655035Z",
     "start_time": "2022-06-01T06:11:14.624698Z"
    },
    "executionInfo": {
     "elapsed": 7,
     "status": "ok",
     "timestamp": 1653722374818,
     "user": {
      "displayName": "dinesh solunke",
      "userId": "13503968115604440804"
     },
     "user_tz": -330
    },
    "id": "6n21TAROMq8U"
   },
   "outputs": [],
   "source": [
    "ind = r'C:\\Users\\solunkedi\\OneDrive - VMware, Inc\\Dinesh Solunke\\Greate Learning Project\\Capstone Project\\repo\\faster_rcnn_resnet_final_project\\templates'\n",
    "app = Flask(__name__, template_folder=ind)\n",
    "# app = Flask(__name__)\n",
    "# run_with_ngrok(app)\n",
    "UPLOAD_FOLDER = \"upload_pred\"\n",
    "DEVICE = \"cpu\"\n",
    "\n",
    "def model():\n",
    "    # load the COCO pre-trained model\n",
    "    # we will keep the image size to 1024 pixels instead of the original 800,\n",
    "    # this will ensure better training and testing results, although it may...\n",
    "    # ... increase the training time (a tarde-off)\n",
    "    model = torchvision.models.detection.fasterrcnn_resnet50_fpn(pretrained=True, \n",
    "                                                                 min_size=1024)\n",
    "    # one class is pneumonia, and the other is background\n",
    "    num_classes = 2\n",
    "    # get the input features for the classifier\n",
    "    in_features = model.roi_heads.box_predictor.cls_score.in_features\n",
    "    # replace pre-trained head with our features head\n",
    "    # the head layer will classify the images based on our data input features\n",
    "    model.roi_heads.box_predictor = FastRCNNPredictor(in_features, num_classes)\n",
    "\n",
    "    return model\n",
    "\n",
    "def format_prediction_string(boxes, scores):\n",
    "    pred_strings = []\n",
    "    for j in zip(scores, boxes):\n",
    "        pred_strings.append(\"Confidence: {0:.4f}, Coordinates: {1} {2} {3} {4}\".format(j[0]*100, j[1][0], j[1][1], j[1][2], j[1][3]))\n",
    "\n",
    "    return \" \".join(pred_strings)\n",
    "\n",
    "def predict(image_path, model):\n",
    "    # define the torchvision image transforms\n",
    "    transform = transforms.Compose([\n",
    "        transforms.ToTensor(),\n",
    "    ])\n",
    "    results = []\n",
    "    detection_threshold = 0.9\n",
    "    model.eval()\n",
    "    with torch.no_grad():\n",
    "        test_images = image_path\n",
    "        orig_image = Image.open(test_images)\n",
    "        orig_image = orig_image.convert('RGB')\n",
    "        image = orig_image.copy()\n",
    "        image = transform(image).to(DEVICE)\n",
    "        image = torch.unsqueeze(image, 0)\n",
    "\n",
    "        cpu_device = torch.device(\"cpu\")\n",
    "\n",
    "        outputs = model(image)\n",
    "        \n",
    "        outputs = [{k: v.to(cpu_device) for k, v in t.items()} for t in outputs]\n",
    "        if len(outputs[0]['boxes']) != 0:\n",
    "            for counter in range(len(outputs[0]['boxes'])):\n",
    "                boxes = outputs[0]['boxes'].data.cpu().numpy()\n",
    "                scores = outputs[0]['scores'].data.cpu().numpy()\n",
    "                boxes = boxes[scores >= detection_threshold].astype(np.int32)\n",
    "                draw_boxes = boxes.copy()\n",
    "                boxes[:, 2] = boxes[:, 2] - boxes[:, 0]\n",
    "                boxes[:, 3] = boxes[:, 3] - boxes[:, 1]\n",
    "                \n",
    "            for box in draw_boxes:\n",
    "                draw = ImageDraw.Draw(orig_image)   \n",
    "                draw.rectangle([(box[0], box[1]), (box[2], box[3])], outline =\"red\") \n",
    "                draw.rectangle([(box[0]+1, box[1]+1), (box[2]+1, box[3]+1)], outline =\"red\") \n",
    "        \n",
    "            print('PATH.......', image_path)\n",
    "            orig_image.save(f'C:/Users/solunkedi/OneDrive - VMware, Inc/Dinesh Solunke/Greate Learning Project/Capstone Project/repo/test_predictions/{image_path.split(os.path.sep)[-1]}')\n",
    "                    \n",
    "            result = {\n",
    "                'Prediction': format_prediction_string(boxes, scores)\n",
    "            }\n",
    "            results.append(result)\n",
    "        else:\n",
    "            result = {\n",
    "                'Prediction': None\n",
    "            }\n",
    "            results.append(result)\n",
    "\n",
    "    print(results[0]['Prediction'])\n",
    "    if results[0]['Prediction'] == None or results[0]['Prediction'] == '':\n",
    "        return 'No pneumonia detected. Patient is healthy.', False\n",
    "    else:\n",
    "        return results[0]['Prediction'], True"
   ]
  },
  {
   "cell_type": "code",
   "execution_count": 7,
   "metadata": {
    "ExecuteTime": {
     "end_time": "2022-05-29T12:25:02.088003Z",
     "start_time": "2022-05-29T12:04:04.829160Z"
    },
    "colab": {
     "base_uri": "https://localhost:8080/"
    },
    "executionInfo": {
     "elapsed": 223752,
     "status": "ok",
     "timestamp": 1653722003397,
     "user": {
      "displayName": "dinesh solunke",
      "userId": "13503968115604440804"
     },
     "user_tz": -330
    },
    "id": "JkTVCDWWMutB",
    "outputId": "1e07a17b-f1a8-4a76-9fec-136af5302f2d"
   },
   "outputs": [
    {
     "name": "stdout",
     "output_type": "stream",
     "text": [
      " * Serving Flask app \"__main__\" (lazy loading)\n",
      " * Environment: production\n",
      "\u001b[31m   WARNING: This is a development server. Do not use it in a production deployment.\u001b[0m\n",
      "\u001b[2m   Use a production WSGI server instead.\u001b[0m\n",
      " * Debug mode: on\n"
     ]
    },
    {
     "name": "stderr",
     "output_type": "stream",
     "text": [
      " * Running on http://127.0.0.1:12000/ (Press CTRL+C to quit)\n",
      "127.0.0.1 - - [29/May/2022 17:34:12] \"\u001b[37mGET / HTTP/1.1\u001b[0m\" 200 -\n",
      "127.0.0.1 - - [29/May/2022 17:34:42] \"\u001b[37mPOST / HTTP/1.1\u001b[0m\" 200 -\n"
     ]
    },
    {
     "name": "stdout",
     "output_type": "stream",
     "text": [
      "PATH....... upload_pred\\00a221ac-da8f-4f61-8d4f-fc195143491d.jpg\n",
      "\n"
     ]
    },
    {
     "name": "stderr",
     "output_type": "stream",
     "text": [
      "127.0.0.1 - - [29/May/2022 17:35:20] \"\u001b[37mPOST / HTTP/1.1\u001b[0m\" 200 -\n"
     ]
    },
    {
     "name": "stdout",
     "output_type": "stream",
     "text": [
      "PATH....... upload_pred\\00ad18b7-06ee-4c4d-abca-14bdf814e8b2.jpg\n",
      "Confidence: 91.6105, Coordinates: 209 424 180 246\n"
     ]
    },
    {
     "name": "stderr",
     "output_type": "stream",
     "text": [
      "127.0.0.1 - - [29/May/2022 17:35:44] \"\u001b[37mPOST / HTTP/1.1\u001b[0m\" 200 -\n"
     ]
    },
    {
     "name": "stdout",
     "output_type": "stream",
     "text": [
      "PATH....... upload_pred\\00af3668-1970-4f65-a292-525d2c5aed5c.jpg\n",
      "Confidence: 90.6892, Coordinates: 149 575 142 136\n"
     ]
    },
    {
     "name": "stderr",
     "output_type": "stream",
     "text": [
      "127.0.0.1 - - [29/May/2022 17:35:46] \"\u001b[37mPOST / HTTP/1.1\u001b[0m\" 200 -\n"
     ]
    },
    {
     "name": "stdout",
     "output_type": "stream",
     "text": [
      "PATH....... upload_pred\\00af3668-1970-4f65-a292-525d2c5aed5c.jpg\n",
      "Confidence: 90.6892, Coordinates: 149 575 142 136\n"
     ]
    },
    {
     "name": "stderr",
     "output_type": "stream",
     "text": [
      "127.0.0.1 - - [29/May/2022 17:37:39] \"\u001b[37mPOST / HTTP/1.1\u001b[0m\" 200 -\n"
     ]
    },
    {
     "name": "stdout",
     "output_type": "stream",
     "text": [
      "PATH....... upload_pred\\00b4ac1b-fa09-4dbe-b93f-7d9e52992a68.jpg\n",
      "Confidence: 90.1726, Coordinates: 197 694 189 219\n"
     ]
    },
    {
     "name": "stderr",
     "output_type": "stream",
     "text": [
      "127.0.0.1 - - [29/May/2022 17:37:52] \"\u001b[37mPOST / HTTP/1.1\u001b[0m\" 200 -\n"
     ]
    },
    {
     "name": "stdout",
     "output_type": "stream",
     "text": [
      "PATH....... upload_pred\\00b4ac1b-fa09-4dbe-b93f-7d9e52992a68.jpg\n",
      "Confidence: 90.1726, Coordinates: 197 694 189 219\n"
     ]
    }
   ],
   "source": [
    "@app.route(\"/\", methods=[\"GET\", \"POST\"])\n",
    "def upload_predict():\n",
    "    if request.method == \"POST\":\n",
    "        image_file = request.files[\"image\"]\n",
    "        if image_file:\n",
    "            image_location = os.path.join(\n",
    "                UPLOAD_FOLDER,\n",
    "                image_file.filename\n",
    "            )\n",
    "            image_file.save(image_location)\n",
    "            pred, show_image = predict(image_location, MODEL)\n",
    "            return render_template(\"index1.html\", prediction=pred, show_image=show_image, name=image_file.filename)\n",
    "    return render_template(\"index1.html\", prediction=0, image_loc=None)\n",
    "\n",
    "\n",
    "if __name__ == \"__main__\":\n",
    "    MODEL = model()\n",
    "    MODEL.load_state_dict(torch.load(r'C:\\Users\\solunkedi\\OneDrive - VMware, Inc\\Dinesh Solunke\\Greate Learning Project\\Capstone Project\\repo\\faster_rcnn_resnet_final_project\\fasterrcnn_resnet50_fpn.pth', map_location=torch.device(DEVICE)))\n",
    "    MODEL.to(DEVICE)\n",
    "#     print(MODEL)\n",
    "    app.run(host=\"127.0.0.1\", port=12000, debug=True, use_reloader=False) # ucomment this when running on local machine\n",
    "#     app.run()"
   ]
  },
  {
   "cell_type": "code",
   "execution_count": 8,
   "metadata": {
    "ExecuteTime": {
     "end_time": "2022-05-29T12:25:02.119005Z",
     "start_time": "2022-05-29T12:25:02.096004Z"
    },
    "colab": {
     "base_uri": "https://localhost:8080/"
    },
    "id": "8r27ebFVg0Ay",
    "outputId": "6d15b9f0-87ad-469c-bee6-859d701e6c28"
   },
   "outputs": [],
   "source": [
    "# @app.route('/')\n",
    "# # ‘/’ URL is bound with hello_world() function.\n",
    "# def hello_world():\n",
    "#     return 'Hello World'\n",
    "  \n",
    "# # main driver function\n",
    "# if __name__ == '__main__':\n",
    "  \n",
    "#     # run() method of Flask class runs the application \n",
    "#     # on the local development server.\n",
    "#     app.run()"
   ]
  }
 ],
 "metadata": {
  "accelerator": "GPU",
  "colab": {
   "authorship_tag": "ABX9TyMo4tolnYWs5X7ukUs9Jd8c",
   "collapsed_sections": [],
   "name": "P_Detection_App.ipynb",
   "provenance": []
  },
  "kernelspec": {
   "display_name": "Python 3",
   "language": "python",
   "name": "python3"
  },
  "language_info": {
   "codemirror_mode": {
    "name": "ipython",
    "version": 3
   },
   "file_extension": ".py",
   "mimetype": "text/x-python",
   "name": "python",
   "nbconvert_exporter": "python",
   "pygments_lexer": "ipython3",
   "version": "3.8.10"
  },
  "latex_envs": {
   "LaTeX_envs_menu_present": true,
   "autoclose": false,
   "autocomplete": true,
   "bibliofile": "biblio.bib",
   "cite_by": "apalike",
   "current_citInitial": 1,
   "eqLabelWithNumbers": true,
   "eqNumInitial": 1,
   "hotkeys": {
    "equation": "Ctrl-E",
    "itemize": "Ctrl-I"
   },
   "labels_anchors": false,
   "latex_user_defs": false,
   "report_style_numbering": false,
   "user_envs_cfg": false
  },
  "toc": {
   "base_numbering": 1,
   "nav_menu": {},
   "number_sections": true,
   "sideBar": true,
   "skip_h1_title": false,
   "title_cell": "Table of Contents",
   "title_sidebar": "Contents",
   "toc_cell": false,
   "toc_position": {},
   "toc_section_display": true,
   "toc_window_display": false
  }
 },
 "nbformat": 4,
 "nbformat_minor": 1
}
